{
 "cells": [
  {
   "cell_type": "code",
   "execution_count": 86,
   "metadata": {},
   "outputs": [
    {
     "name": "stdout",
     "output_type": "stream",
     "text": [
      "0.25\n"
     ]
    }
   ],
   "source": [
    "#this program finds the lagrange's nth order polynomial\n",
    "def lagrange(xlist,ylist,x):\n",
    "    Ln=[]\n",
    "    P=0.0\n",
    "    n=len(xlist)-1             #n is the order of polynomial, i.e. (total number of terms-1)\n",
    "    for k in range (n+1):      #kth lagrange multiplier (n of such in total)\n",
    "        a=1.0\n",
    "        for i in range (n+1):  \n",
    "            if (i!=k):\n",
    "                a=a*(x-xlist[i])/(xlist[k]-xlist[i])\n",
    "        Ln.append(a)\n",
    "    for i in range (n+1):\n",
    "        P=P+(ylist[i]*Ln[i])\n",
    "    return P\n",
    "\n",
    "def f(x):\n",
    "    y=[]\n",
    "    for i in range (len(x)):\n",
    "        y.append(1.0/x[i])\n",
    "    return y\n",
    "\n",
    "x=([2.0,2.75,4.0])\n",
    "y=f(x)\n",
    "z=lagrange(x,y,4)\n",
    "print (z)"
   ]
  },
  {
   "cell_type": "code",
   "execution_count": 95,
   "metadata": {},
   "outputs": [
    {
     "ename": "ModuleNotFoundError",
     "evalue": "No module named 'lagr_poly.py'; 'lagr_poly' is not a package",
     "output_type": "error",
     "traceback": [
      "\u001b[0;31m---------------------------------------------------------------------------\u001b[0m",
      "\u001b[0;31mModuleNotFoundError\u001b[0m                       Traceback (most recent call last)",
      "\u001b[0;32m<ipython-input-95-005d19ba62c1>\u001b[0m in \u001b[0;36m<module>\u001b[0;34m\u001b[0m\n\u001b[0;32m----> 1\u001b[0;31m \u001b[0;32mfrom\u001b[0m \u001b[0mlagr_poly\u001b[0m\u001b[0;34m.\u001b[0m\u001b[0mpy\u001b[0m \u001b[0;32mimport\u001b[0m \u001b[0mlagrange\u001b[0m\u001b[0;34m\u001b[0m\u001b[0;34m\u001b[0m\u001b[0m\n\u001b[0m\u001b[1;32m      2\u001b[0m \u001b[0;32mimport\u001b[0m \u001b[0mlagr_poly\u001b[0m\u001b[0;34m.\u001b[0m\u001b[0mpy\u001b[0m \u001b[0;32mas\u001b[0m \u001b[0mn1\u001b[0m\u001b[0;34m\u001b[0m\u001b[0;34m\u001b[0m\u001b[0m\n\u001b[1;32m      3\u001b[0m \u001b[0;32mimport\u001b[0m \u001b[0mmath\u001b[0m\u001b[0;34m\u001b[0m\u001b[0;34m\u001b[0m\u001b[0m\n\u001b[1;32m      4\u001b[0m \u001b[0;32mdef\u001b[0m \u001b[0mf\u001b[0m\u001b[0;34m(\u001b[0m\u001b[0mx\u001b[0m\u001b[0;34m)\u001b[0m\u001b[0;34m:\u001b[0m\u001b[0;34m\u001b[0m\u001b[0;34m\u001b[0m\u001b[0m\n\u001b[1;32m      5\u001b[0m     \u001b[0my\u001b[0m\u001b[0;34m=\u001b[0m\u001b[0;34m[\u001b[0m\u001b[0;34m]\u001b[0m\u001b[0;34m\u001b[0m\u001b[0;34m\u001b[0m\u001b[0m\n",
      "\u001b[0;31mModuleNotFoundError\u001b[0m: No module named 'lagr_poly.py'; 'lagr_poly' is not a package"
     ]
    }
   ],
   "source": [
    "from lagr_poly.py import lagrange\n",
    "import math\n",
    "def f(x):\n",
    "    y=[]\n",
    "    for i in range (len(x)):\n",
    "        y.append(1/x)\n",
    "    return y\n",
    "\n",
    "x=([2.0,2.75,4.0])\n",
    "y=f(x)\n",
    "z=lagrange(x,y,4)\n",
    "print (z)"
   ]
  },
  {
   "cell_type": "code",
   "execution_count": null,
   "metadata": {},
   "outputs": [],
   "source": []
  }
 ],
 "metadata": {
  "kernelspec": {
   "display_name": "Python 3",
   "language": "python",
   "name": "python3"
  },
  "language_info": {
   "codemirror_mode": {
    "name": "ipython",
    "version": 3
   },
   "file_extension": ".py",
   "mimetype": "text/x-python",
   "name": "python",
   "nbconvert_exporter": "python",
   "pygments_lexer": "ipython3",
   "version": "3.7.4"
  }
 },
 "nbformat": 4,
 "nbformat_minor": 2
}
