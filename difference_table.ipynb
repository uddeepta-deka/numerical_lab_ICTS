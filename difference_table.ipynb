{
 "cells": [
  {
   "cell_type": "code",
   "execution_count": 54,
   "metadata": {},
   "outputs": [],
   "source": [
    "#this program makes a difference table from given entries of evenly spaced data\n",
    "\n",
    "def diff_table(xlist, ylist):     \n",
    "    n=len(ylist)\n",
    "    h=xlist[1]-xlist[0]               #here h is the spacing of the entries\n",
    "    f = [[0 for i in range(n)]        #initializing 2D array\n",
    "        for j in range(n)]; \n",
    "    for i in range(n):\n",
    "        f[i][0]=ylist[i]              #[row][column]\n",
    "    for i in range (1,n):\n",
    "        for j in range (n-i):\n",
    "            f[j][i]=((f[j+1][i-1]-f[j][i-1]))/(i*h)\n",
    "            \n",
    "    # Displaying the forward difference table \n",
    "    for i in range(n): \n",
    "        print(xlist[i], end = \"\\t\"); \n",
    "        for j in range(n-i): \n",
    "            print(f[i][j], end = \"\\t\"); \n",
    "        print(\"\"); \n",
    "    return f"
   ]
  },
  {
   "cell_type": "code",
   "execution_count": 53,
   "metadata": {},
   "outputs": [
    {
     "name": "stdout",
     "output_type": "stream",
     "text": [
      "[[0, 0, 0, 0, 0], [0, 0, 0, 0, 0], [0, 0, 0, 0, 0], [0, 0, 0, 0, 0], [0, 0, 0, 0, 0]]\n"
     ]
    }
   ],
   "source": [
    "y=[[0 for i in range(5)] \n",
    "        for j in range(5)]\n",
    "print(y)"
   ]
  },
  {
   "cell_type": "code",
   "execution_count": null,
   "metadata": {},
   "outputs": [],
   "source": []
  }
 ],
 "metadata": {
  "kernelspec": {
   "display_name": "Python 3",
   "language": "python",
   "name": "python3"
  },
  "language_info": {
   "codemirror_mode": {
    "name": "ipython",
    "version": 3
   },
   "file_extension": ".py",
   "mimetype": "text/x-python",
   "name": "python",
   "nbconvert_exporter": "python",
   "pygments_lexer": "ipython3",
   "version": "3.7.5"
  }
 },
 "nbformat": 4,
 "nbformat_minor": 2
}
